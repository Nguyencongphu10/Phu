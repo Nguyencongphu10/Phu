{
  "nbformat": 4,
  "nbformat_minor": 0,
  "metadata": {
    "colab": {
      "name": "fade_khuon_mat_CNN.ipynb",
      "provenance": []
    },
    "kernelspec": {
      "name": "python3",
      "display_name": "Python 3"
    },
    "language_info": {
      "name": "python"
    },
    "accelerator": "GPU"
  },
  "cells": [
    {
      "cell_type": "code",
      "execution_count": null,
      "metadata": {
        "id": "DkBu7Tbo2kQe"
      },
      "outputs": [],
      "source": [
        "from tensorflow.keras.preprocessing.image import ImageDataGenerator\n",
        "from tensorflow.keras.preprocessing import image\n",
        "from tensorflow.keras.optimizers import SGD, RMSprop\n",
        "from tensorflow.keras.utils import to_categorical\n",
        "import matplotlib.pyplot as plt\n",
        "from tensorflow.keras.models import load_model\n",
        "import tensorflow as  tf\n",
        "import numpy as np\n",
        "import cv2\n",
        "import os\n",
        "from keras.utils import np_utils\n",
        "from tensorflow.keras.callbacks import EarlyStopping, ModelCheckpoint, ReduceLROnPlateau\n",
        "from keras.models import Sequential\n",
        "from keras.layers import Dense,Flatten, Dropout\n",
        "from tensorflow.keras.utils import load_img\n",
        "from tensorflow.keras.utils import img_to_array\n",
        "from keras.layers import Conv2D, MaxPooling2D"
      ]
    },
    {
      "cell_type": "code",
      "source": [
        "from google.colab import drive\n",
        "drive.mount('/content/drive')"
      ],
      "metadata": {
        "colab": {
          "base_uri": "https://localhost:8080/"
        },
        "id": "Sy74oVxn22iO",
        "outputId": "67a0ce7e-248e-4065-f3e1-ce2e98cbcd6e"
      },
      "execution_count": null,
      "outputs": [
        {
          "output_type": "stream",
          "name": "stdout",
          "text": [
            "Drive already mounted at /content/drive; to attempt to forcibly remount, call drive.mount(\"/content/drive\", force_remount=True).\n"
          ]
        }
      ]
    },
    {
      "cell_type": "code",
      "source": [
        "train = ImageDataGenerator(rescale=1/255)\n",
        "validation = ImageDataGenerator(rescale=1/255)"
      ],
      "metadata": {
        "id": "rUqEi3D42-Rp"
      },
      "execution_count": null,
      "outputs": []
    },
    {
      "cell_type": "code",
      "source": [
        "train_dataset=train.flow_from_directory('/content/drive/MyDrive/image/train',\n",
        "                                      target_size = (150,150),\n",
        "                                       batch_size = 12, \n",
        "                                       class_mode = 'categorical') \n",
        "validation_dataset=validation.flow_from_directory('/content/drive/MyDrive/image/test',\n",
        "                                      target_size = (150,150),\n",
        "                                       batch_size = 12,  \n",
        "                                       class_mode = 'categorical')   "
      ],
      "metadata": {
        "colab": {
          "base_uri": "https://localhost:8080/"
        },
        "id": "Y1Ut2SIy3APQ",
        "outputId": "96464165-076f-4a39-b280-11e893fdb5f2"
      },
      "execution_count": null,
      "outputs": [
        {
          "output_type": "stream",
          "name": "stdout",
          "text": [
            "Found 60 images belonging to 2 classes.\n",
            "Found 60 images belonging to 2 classes.\n"
          ]
        }
      ]
    },
    {
      "cell_type": "code",
      "source": [
        "train_dataset.class_indices"
      ],
      "metadata": {
        "colab": {
          "base_uri": "https://localhost:8080/"
        },
        "id": "tgvjRNYh3D26",
        "outputId": "65df0fe0-2415-4348-f585-b740ced4aafa"
      },
      "execution_count": null,
      "outputs": [
        {
          "output_type": "execute_result",
          "data": {
            "text/plain": [
              "{'No_mask': 0, 'mask': 1}"
            ]
          },
          "metadata": {},
          "execution_count": 22
        }
      ]
    },
    {
      "cell_type": "code",
      "source": [
        "model = tf.keras.models.Sequential([tf.keras.layers.Conv2D(16,(3,3),activation = 'relu',padding='same',input_shape =(150,150,3)),\n",
        "                                    tf.keras.layers.Conv2D(16,(3,3),activation = 'relu',padding='same'),\n",
        "                                    tf.keras.layers.MaxPool2D(2,2),\n",
        "                                    ##\n",
        "                                    tf.keras.layers.Conv2D(32,(3,3),activation = 'relu',padding='same'),\n",
        "                                    tf.keras.layers.Conv2D(32,(3,3),activation = 'relu',padding='same'),\n",
        "                                    tf.keras.layers.MaxPool2D(2,2),\n",
        "                                    ##\n",
        "                                    tf.keras.layers.Conv2D(64,(3,3),activation = 'relu',padding='same'),\n",
        "                                    tf.keras.layers.Conv2D(64,(3,3),activation = 'relu',padding='same'),\n",
        "                                    tf.keras.layers.MaxPool2D(2,2),\n",
        "                                    ##\n",
        "                                    tf.keras.layers.Conv2D(128,(3,3),activation = 'relu',padding='same'),\n",
        "                                    tf.keras.layers.Conv2D(128,(3,3),activation = 'relu',padding='same'),\n",
        "                                    tf.keras.layers.MaxPool2D(2,2),\n",
        "                                    ##\n",
        "                                    tf.keras.layers.Flatten(),\n",
        "                                    ##\n",
        "                                    tf.keras.layers.Dense(256,activation = 'relu'),\n",
        "                                    ##\n",
        "                                    tf.keras.layers.Dense(2,activation='softmax')\n",
        "                                    ])"
      ],
      "metadata": {
        "id": "h4l4ffSuHOl-"
      },
      "execution_count": null,
      "outputs": []
    },
    {
      "cell_type": "code",
      "source": [
        "from tensorflow.keras.optimizers import SGD\n",
        "opt = SGD(lr=0.001, momentum=0.9)\n",
        "model.compile(optimizer=opt, loss='categorical_crossentropy', metrics = ['accuracy'])"
      ],
      "metadata": {
        "colab": {
          "base_uri": "https://localhost:8080/"
        },
        "id": "8t2bc1JjHR2Q",
        "outputId": "2e23bef8-cc3a-4253-99b3-cdcad802c622"
      },
      "execution_count": null,
      "outputs": [
        {
          "output_type": "stream",
          "name": "stderr",
          "text": [
            "/usr/local/lib/python3.7/dist-packages/keras/optimizer_v2/gradient_descent.py:102: UserWarning: The `lr` argument is deprecated, use `learning_rate` instead.\n",
            "  super(SGD, self).__init__(name, **kwargs)\n"
          ]
        }
      ]
    },
    {
      "cell_type": "code",
      "source": [
        "history = model.fit(train_dataset,batch_size=12,epochs=100,verbose=1,validation_data=validation_dataset)"
      ],
      "metadata": {
        "colab": {
          "base_uri": "https://localhost:8080/"
        },
        "id": "v_thbvHjHUOe",
        "outputId": "6a63530c-2031-46e1-bb77-2c5208ddec1f"
      },
      "execution_count": null,
      "outputs": [
        {
          "output_type": "stream",
          "name": "stdout",
          "text": [
            "Epoch 1/100\n",
            "5/5 [==============================] - 2s 191ms/step - loss: 0.6959 - accuracy: 0.3500 - val_loss: 0.6878 - val_accuracy: 0.7667\n",
            "Epoch 2/100\n",
            "5/5 [==============================] - 1s 119ms/step - loss: 0.6793 - accuracy: 0.7667 - val_loss: 0.6647 - val_accuracy: 0.7667\n",
            "Epoch 3/100\n",
            "5/5 [==============================] - 1s 124ms/step - loss: 0.6553 - accuracy: 0.7667 - val_loss: 0.6421 - val_accuracy: 0.7667\n",
            "Epoch 4/100\n",
            "5/5 [==============================] - 1s 122ms/step - loss: 0.6327 - accuracy: 0.7667 - val_loss: 0.6185 - val_accuracy: 0.7667\n",
            "Epoch 5/100\n",
            "5/5 [==============================] - 1s 124ms/step - loss: 0.6080 - accuracy: 0.7667 - val_loss: 0.5919 - val_accuracy: 0.7667\n",
            "Epoch 6/100\n",
            "5/5 [==============================] - 1s 122ms/step - loss: 0.5866 - accuracy: 0.7667 - val_loss: 0.5602 - val_accuracy: 0.7667\n",
            "Epoch 7/100\n",
            "5/5 [==============================] - 1s 125ms/step - loss: 0.5486 - accuracy: 0.7667 - val_loss: 0.5362 - val_accuracy: 0.7667\n",
            "Epoch 8/100\n",
            "5/5 [==============================] - 1s 126ms/step - loss: 0.5274 - accuracy: 0.7667 - val_loss: 0.5212 - val_accuracy: 0.7667\n",
            "Epoch 9/100\n",
            "5/5 [==============================] - 1s 122ms/step - loss: 0.5222 - accuracy: 0.7667 - val_loss: 0.5191 - val_accuracy: 0.7667\n",
            "Epoch 10/100\n",
            "5/5 [==============================] - 1s 124ms/step - loss: 0.5196 - accuracy: 0.7667 - val_loss: 0.5182 - val_accuracy: 0.7667\n",
            "Epoch 11/100\n",
            "5/5 [==============================] - 1s 118ms/step - loss: 0.5207 - accuracy: 0.7667 - val_loss: 0.5156 - val_accuracy: 0.7667\n",
            "Epoch 12/100\n",
            "5/5 [==============================] - 1s 119ms/step - loss: 0.5181 - accuracy: 0.7667 - val_loss: 0.5116 - val_accuracy: 0.7667\n",
            "Epoch 13/100\n",
            "5/5 [==============================] - 1s 121ms/step - loss: 0.5143 - accuracy: 0.7667 - val_loss: 0.5110 - val_accuracy: 0.7667\n",
            "Epoch 14/100\n",
            "5/5 [==============================] - 1s 125ms/step - loss: 0.5115 - accuracy: 0.7667 - val_loss: 0.5086 - val_accuracy: 0.7667\n",
            "Epoch 15/100\n",
            "5/5 [==============================] - 1s 132ms/step - loss: 0.5074 - accuracy: 0.7667 - val_loss: 0.5044 - val_accuracy: 0.7667\n",
            "Epoch 16/100\n",
            "5/5 [==============================] - 1s 125ms/step - loss: 0.5077 - accuracy: 0.7667 - val_loss: 0.5036 - val_accuracy: 0.7667\n",
            "Epoch 17/100\n",
            "5/5 [==============================] - 1s 120ms/step - loss: 0.5039 - accuracy: 0.7667 - val_loss: 0.5003 - val_accuracy: 0.7667\n",
            "Epoch 18/100\n",
            "5/5 [==============================] - 1s 130ms/step - loss: 0.4972 - accuracy: 0.7667 - val_loss: 0.4952 - val_accuracy: 0.7667\n",
            "Epoch 19/100\n",
            "5/5 [==============================] - 1s 124ms/step - loss: 0.5044 - accuracy: 0.7667 - val_loss: 0.4955 - val_accuracy: 0.7667\n",
            "Epoch 20/100\n",
            "5/5 [==============================] - 1s 128ms/step - loss: 0.4932 - accuracy: 0.7667 - val_loss: 0.4889 - val_accuracy: 0.7667\n",
            "Epoch 21/100\n",
            "5/5 [==============================] - 1s 124ms/step - loss: 0.4878 - accuracy: 0.7667 - val_loss: 0.4828 - val_accuracy: 0.7667\n",
            "Epoch 22/100\n",
            "5/5 [==============================] - 1s 120ms/step - loss: 0.4818 - accuracy: 0.7667 - val_loss: 0.4782 - val_accuracy: 0.7667\n",
            "Epoch 23/100\n",
            "5/5 [==============================] - 1s 128ms/step - loss: 0.4772 - accuracy: 0.7667 - val_loss: 0.4713 - val_accuracy: 0.7667\n",
            "Epoch 24/100\n",
            "5/5 [==============================] - 1s 124ms/step - loss: 0.4691 - accuracy: 0.7667 - val_loss: 0.4628 - val_accuracy: 0.7667\n",
            "Epoch 25/100\n",
            "5/5 [==============================] - 1s 126ms/step - loss: 0.4685 - accuracy: 0.7667 - val_loss: 0.4560 - val_accuracy: 0.7667\n",
            "Epoch 26/100\n",
            "5/5 [==============================] - 1s 125ms/step - loss: 0.4503 - accuracy: 0.7667 - val_loss: 0.4413 - val_accuracy: 0.7667\n",
            "Epoch 27/100\n",
            "5/5 [==============================] - 1s 125ms/step - loss: 0.4416 - accuracy: 0.7667 - val_loss: 0.4283 - val_accuracy: 0.7667\n",
            "Epoch 28/100\n",
            "5/5 [==============================] - 1s 129ms/step - loss: 0.4219 - accuracy: 0.7667 - val_loss: 0.4046 - val_accuracy: 0.7667\n",
            "Epoch 29/100\n",
            "5/5 [==============================] - 1s 120ms/step - loss: 0.3949 - accuracy: 0.7667 - val_loss: 0.3742 - val_accuracy: 0.7667\n",
            "Epoch 30/100\n",
            "5/5 [==============================] - 1s 128ms/step - loss: 0.3681 - accuracy: 0.7667 - val_loss: 0.3271 - val_accuracy: 0.7667\n",
            "Epoch 31/100\n",
            "5/5 [==============================] - 1s 129ms/step - loss: 0.3058 - accuracy: 0.7667 - val_loss: 0.2599 - val_accuracy: 0.8000\n",
            "Epoch 32/100\n",
            "5/5 [==============================] - 1s 131ms/step - loss: 0.2313 - accuracy: 0.9333 - val_loss: 0.1698 - val_accuracy: 1.0000\n",
            "Epoch 33/100\n",
            "5/5 [==============================] - 1s 132ms/step - loss: 0.1387 - accuracy: 1.0000 - val_loss: 0.0905 - val_accuracy: 1.0000\n",
            "Epoch 34/100\n",
            "5/5 [==============================] - 1s 123ms/step - loss: 0.0579 - accuracy: 1.0000 - val_loss: 0.0266 - val_accuracy: 1.0000\n",
            "Epoch 35/100\n",
            "5/5 [==============================] - 1s 126ms/step - loss: 0.0174 - accuracy: 1.0000 - val_loss: 0.0072 - val_accuracy: 1.0000\n",
            "Epoch 36/100\n",
            "5/5 [==============================] - 1s 127ms/step - loss: 0.0049 - accuracy: 1.0000 - val_loss: 0.0024 - val_accuracy: 1.0000\n",
            "Epoch 37/100\n",
            "5/5 [==============================] - 1s 124ms/step - loss: 0.0018 - accuracy: 1.0000 - val_loss: 0.0010 - val_accuracy: 1.0000\n",
            "Epoch 38/100\n",
            "5/5 [==============================] - 1s 122ms/step - loss: 8.1089e-04 - accuracy: 1.0000 - val_loss: 6.0804e-04 - val_accuracy: 1.0000\n",
            "Epoch 39/100\n",
            "5/5 [==============================] - 1s 132ms/step - loss: 5.1886e-04 - accuracy: 1.0000 - val_loss: 4.0127e-04 - val_accuracy: 1.0000\n",
            "Epoch 40/100\n",
            "5/5 [==============================] - 1s 131ms/step - loss: 3.5875e-04 - accuracy: 1.0000 - val_loss: 3.1265e-04 - val_accuracy: 1.0000\n",
            "Epoch 41/100\n",
            "5/5 [==============================] - 1s 164ms/step - loss: 2.9169e-04 - accuracy: 1.0000 - val_loss: 2.6552e-04 - val_accuracy: 1.0000\n",
            "Epoch 42/100\n",
            "5/5 [==============================] - 1s 191ms/step - loss: 2.5380e-04 - accuracy: 1.0000 - val_loss: 2.3813e-04 - val_accuracy: 1.0000\n",
            "Epoch 43/100\n",
            "5/5 [==============================] - 1s 190ms/step - loss: 2.3017e-04 - accuracy: 1.0000 - val_loss: 2.1913e-04 - val_accuracy: 1.0000\n",
            "Epoch 44/100\n",
            "5/5 [==============================] - 1s 127ms/step - loss: 2.1332e-04 - accuracy: 1.0000 - val_loss: 2.0657e-04 - val_accuracy: 1.0000\n",
            "Epoch 45/100\n",
            "5/5 [==============================] - 1s 134ms/step - loss: 2.0440e-04 - accuracy: 1.0000 - val_loss: 1.9786e-04 - val_accuracy: 1.0000\n",
            "Epoch 46/100\n",
            "5/5 [==============================] - 1s 126ms/step - loss: 1.9535e-04 - accuracy: 1.0000 - val_loss: 1.9099e-04 - val_accuracy: 1.0000\n",
            "Epoch 47/100\n",
            "5/5 [==============================] - 1s 125ms/step - loss: 1.8881e-04 - accuracy: 1.0000 - val_loss: 1.8468e-04 - val_accuracy: 1.0000\n",
            "Epoch 48/100\n",
            "5/5 [==============================] - 1s 127ms/step - loss: 1.8251e-04 - accuracy: 1.0000 - val_loss: 1.7946e-04 - val_accuracy: 1.0000\n",
            "Epoch 49/100\n",
            "5/5 [==============================] - 1s 130ms/step - loss: 1.7765e-04 - accuracy: 1.0000 - val_loss: 1.7495e-04 - val_accuracy: 1.0000\n",
            "Epoch 50/100\n",
            "5/5 [==============================] - 1s 129ms/step - loss: 1.7386e-04 - accuracy: 1.0000 - val_loss: 1.7056e-04 - val_accuracy: 1.0000\n",
            "Epoch 51/100\n",
            "5/5 [==============================] - 1s 122ms/step - loss: 1.6952e-04 - accuracy: 1.0000 - val_loss: 1.6681e-04 - val_accuracy: 1.0000\n",
            "Epoch 52/100\n",
            "5/5 [==============================] - 1s 127ms/step - loss: 1.6541e-04 - accuracy: 1.0000 - val_loss: 1.6316e-04 - val_accuracy: 1.0000\n",
            "Epoch 53/100\n",
            "5/5 [==============================] - 1s 130ms/step - loss: 1.6159e-04 - accuracy: 1.0000 - val_loss: 1.5964e-04 - val_accuracy: 1.0000\n",
            "Epoch 54/100\n",
            "5/5 [==============================] - 1s 124ms/step - loss: 1.5854e-04 - accuracy: 1.0000 - val_loss: 1.5614e-04 - val_accuracy: 1.0000\n",
            "Epoch 55/100\n",
            "5/5 [==============================] - 1s 127ms/step - loss: 1.5491e-04 - accuracy: 1.0000 - val_loss: 1.5287e-04 - val_accuracy: 1.0000\n",
            "Epoch 56/100\n",
            "5/5 [==============================] - 1s 128ms/step - loss: 1.5164e-04 - accuracy: 1.0000 - val_loss: 1.4980e-04 - val_accuracy: 1.0000\n",
            "Epoch 57/100\n",
            "5/5 [==============================] - 1s 124ms/step - loss: 1.4863e-04 - accuracy: 1.0000 - val_loss: 1.4677e-04 - val_accuracy: 1.0000\n",
            "Epoch 58/100\n",
            "5/5 [==============================] - 1s 128ms/step - loss: 1.4560e-04 - accuracy: 1.0000 - val_loss: 1.4384e-04 - val_accuracy: 1.0000\n",
            "Epoch 59/100\n",
            "5/5 [==============================] - 1s 126ms/step - loss: 1.4287e-04 - accuracy: 1.0000 - val_loss: 1.4110e-04 - val_accuracy: 1.0000\n",
            "Epoch 60/100\n",
            "5/5 [==============================] - 1s 124ms/step - loss: 1.4029e-04 - accuracy: 1.0000 - val_loss: 1.3834e-04 - val_accuracy: 1.0000\n",
            "Epoch 61/100\n",
            "5/5 [==============================] - 1s 131ms/step - loss: 1.3756e-04 - accuracy: 1.0000 - val_loss: 1.3572e-04 - val_accuracy: 1.0000\n",
            "Epoch 62/100\n",
            "5/5 [==============================] - 1s 124ms/step - loss: 1.3517e-04 - accuracy: 1.0000 - val_loss: 1.3320e-04 - val_accuracy: 1.0000\n",
            "Epoch 63/100\n",
            "5/5 [==============================] - 1s 127ms/step - loss: 1.3250e-04 - accuracy: 1.0000 - val_loss: 1.3075e-04 - val_accuracy: 1.0000\n",
            "Epoch 64/100\n",
            "5/5 [==============================] - 1s 121ms/step - loss: 1.3015e-04 - accuracy: 1.0000 - val_loss: 1.2838e-04 - val_accuracy: 1.0000\n",
            "Epoch 65/100\n",
            "5/5 [==============================] - 1s 123ms/step - loss: 1.2782e-04 - accuracy: 1.0000 - val_loss: 1.2628e-04 - val_accuracy: 1.0000\n",
            "Epoch 66/100\n",
            "5/5 [==============================] - 1s 127ms/step - loss: 1.2550e-04 - accuracy: 1.0000 - val_loss: 1.2409e-04 - val_accuracy: 1.0000\n",
            "Epoch 67/100\n",
            "5/5 [==============================] - 1s 121ms/step - loss: 1.2318e-04 - accuracy: 1.0000 - val_loss: 1.2197e-04 - val_accuracy: 1.0000\n",
            "Epoch 68/100\n",
            "5/5 [==============================] - 1s 130ms/step - loss: 1.2108e-04 - accuracy: 1.0000 - val_loss: 1.1990e-04 - val_accuracy: 1.0000\n",
            "Epoch 69/100\n",
            "5/5 [==============================] - 1s 124ms/step - loss: 1.1900e-04 - accuracy: 1.0000 - val_loss: 1.1790e-04 - val_accuracy: 1.0000\n",
            "Epoch 70/100\n",
            "5/5 [==============================] - 1s 125ms/step - loss: 1.1697e-04 - accuracy: 1.0000 - val_loss: 1.1599e-04 - val_accuracy: 1.0000\n",
            "Epoch 71/100\n",
            "5/5 [==============================] - 1s 131ms/step - loss: 1.1540e-04 - accuracy: 1.0000 - val_loss: 1.1412e-04 - val_accuracy: 1.0000\n",
            "Epoch 72/100\n",
            "5/5 [==============================] - 1s 123ms/step - loss: 1.1325e-04 - accuracy: 1.0000 - val_loss: 1.1230e-04 - val_accuracy: 1.0000\n",
            "Epoch 73/100\n",
            "5/5 [==============================] - 1s 132ms/step - loss: 1.1190e-04 - accuracy: 1.0000 - val_loss: 1.1056e-04 - val_accuracy: 1.0000\n",
            "Epoch 74/100\n",
            "5/5 [==============================] - 1s 126ms/step - loss: 1.1019e-04 - accuracy: 1.0000 - val_loss: 1.0877e-04 - val_accuracy: 1.0000\n",
            "Epoch 75/100\n",
            "5/5 [==============================] - 1s 118ms/step - loss: 1.0834e-04 - accuracy: 1.0000 - val_loss: 1.0703e-04 - val_accuracy: 1.0000\n",
            "Epoch 76/100\n",
            "5/5 [==============================] - 1s 129ms/step - loss: 1.0648e-04 - accuracy: 1.0000 - val_loss: 1.0538e-04 - val_accuracy: 1.0000\n",
            "Epoch 77/100\n",
            "5/5 [==============================] - 1s 121ms/step - loss: 1.0484e-04 - accuracy: 1.0000 - val_loss: 1.0381e-04 - val_accuracy: 1.0000\n",
            "Epoch 78/100\n",
            "5/5 [==============================] - 1s 131ms/step - loss: 1.0368e-04 - accuracy: 1.0000 - val_loss: 1.0226e-04 - val_accuracy: 1.0000\n",
            "Epoch 79/100\n",
            "5/5 [==============================] - 1s 128ms/step - loss: 1.0187e-04 - accuracy: 1.0000 - val_loss: 1.0076e-04 - val_accuracy: 1.0000\n",
            "Epoch 80/100\n",
            "5/5 [==============================] - 1s 123ms/step - loss: 1.0026e-04 - accuracy: 1.0000 - val_loss: 9.9273e-05 - val_accuracy: 1.0000\n",
            "Epoch 81/100\n",
            "5/5 [==============================] - 1s 127ms/step - loss: 9.8810e-05 - accuracy: 1.0000 - val_loss: 9.7859e-05 - val_accuracy: 1.0000\n",
            "Epoch 82/100\n",
            "5/5 [==============================] - 1s 124ms/step - loss: 9.7475e-05 - accuracy: 1.0000 - val_loss: 9.6496e-05 - val_accuracy: 1.0000\n",
            "Epoch 83/100\n",
            "5/5 [==============================] - 1s 129ms/step - loss: 9.6198e-05 - accuracy: 1.0000 - val_loss: 9.5209e-05 - val_accuracy: 1.0000\n",
            "Epoch 84/100\n",
            "5/5 [==============================] - 1s 121ms/step - loss: 9.4790e-05 - accuracy: 1.0000 - val_loss: 9.3846e-05 - val_accuracy: 1.0000\n",
            "Epoch 85/100\n",
            "5/5 [==============================] - 1s 122ms/step - loss: 9.3403e-05 - accuracy: 1.0000 - val_loss: 9.2573e-05 - val_accuracy: 1.0000\n",
            "Epoch 86/100\n",
            "5/5 [==============================] - 1s 126ms/step - loss: 9.2096e-05 - accuracy: 1.0000 - val_loss: 9.1363e-05 - val_accuracy: 1.0000\n",
            "Epoch 87/100\n",
            "5/5 [==============================] - 1s 122ms/step - loss: 9.0938e-05 - accuracy: 1.0000 - val_loss: 9.0148e-05 - val_accuracy: 1.0000\n",
            "Epoch 88/100\n",
            "5/5 [==============================] - 1s 127ms/step - loss: 8.9798e-05 - accuracy: 1.0000 - val_loss: 8.8974e-05 - val_accuracy: 1.0000\n",
            "Epoch 89/100\n",
            "5/5 [==============================] - 1s 122ms/step - loss: 8.8622e-05 - accuracy: 1.0000 - val_loss: 8.7790e-05 - val_accuracy: 1.0000\n",
            "Epoch 90/100\n",
            "5/5 [==============================] - 1s 125ms/step - loss: 8.7591e-05 - accuracy: 1.0000 - val_loss: 8.6636e-05 - val_accuracy: 1.0000\n",
            "Epoch 91/100\n",
            "5/5 [==============================] - 1s 125ms/step - loss: 8.6235e-05 - accuracy: 1.0000 - val_loss: 8.5539e-05 - val_accuracy: 1.0000\n",
            "Epoch 92/100\n",
            "5/5 [==============================] - 1s 123ms/step - loss: 8.5206e-05 - accuracy: 1.0000 - val_loss: 8.4465e-05 - val_accuracy: 1.0000\n",
            "Epoch 93/100\n",
            "5/5 [==============================] - 1s 126ms/step - loss: 8.4121e-05 - accuracy: 1.0000 - val_loss: 8.3396e-05 - val_accuracy: 1.0000\n",
            "Epoch 94/100\n",
            "5/5 [==============================] - 1s 123ms/step - loss: 8.3054e-05 - accuracy: 1.0000 - val_loss: 8.2333e-05 - val_accuracy: 1.0000\n",
            "Epoch 95/100\n",
            "5/5 [==============================] - 1s 126ms/step - loss: 8.2081e-05 - accuracy: 1.0000 - val_loss: 8.1306e-05 - val_accuracy: 1.0000\n",
            "Epoch 96/100\n",
            "5/5 [==============================] - 1s 123ms/step - loss: 8.1014e-05 - accuracy: 1.0000 - val_loss: 8.0307e-05 - val_accuracy: 1.0000\n",
            "Epoch 97/100\n",
            "5/5 [==============================] - 1s 125ms/step - loss: 8.0031e-05 - accuracy: 1.0000 - val_loss: 7.9352e-05 - val_accuracy: 1.0000\n",
            "Epoch 98/100\n",
            "5/5 [==============================] - 1s 123ms/step - loss: 7.9068e-05 - accuracy: 1.0000 - val_loss: 7.8408e-05 - val_accuracy: 1.0000\n",
            "Epoch 99/100\n",
            "5/5 [==============================] - 1s 120ms/step - loss: 7.8108e-05 - accuracy: 1.0000 - val_loss: 7.7494e-05 - val_accuracy: 1.0000\n",
            "Epoch 100/100\n",
            "5/5 [==============================] - 1s 130ms/step - loss: 7.7300e-05 - accuracy: 1.0000 - val_loss: 7.6612e-05 - val_accuracy: 1.0000\n"
          ]
        }
      ]
    },
    {
      "cell_type": "code",
      "source": [
        "model.save('fade_khuon_mat_CNN.h5')\n",
        "model=load_model('fade_khuon_mat_CNN.h5')\n",
        "score=model.evaluate(validation_dataset,verbose=1)\n",
        "print(\"test loss = \",score[0])\n",
        "print(\"test accuracy = \",score[1])"
      ],
      "metadata": {
        "colab": {
          "base_uri": "https://localhost:8080/"
        },
        "id": "9nypN8TAHYhv",
        "outputId": "f4dd1f0b-7316-4053-e334-ede23ed1c140"
      },
      "execution_count": null,
      "outputs": [
        {
          "output_type": "stream",
          "name": "stdout",
          "text": [
            "5/5 [==============================] - 0s 47ms/step - loss: 7.6612e-05 - accuracy: 1.0000\n",
            "test loss =  7.6612202974502e-05\n",
            "test accuracy =  1.0\n"
          ]
        }
      ]
    },
    {
      "cell_type": "code",
      "source": [
        "plt.plot(history.history['accuracy'])\n",
        "plt.plot(history.history['val_accuracy'])\n",
        "plt.ylabel('accuracy')\n",
        "plt.xlabel('epoch')\n",
        "plt.legend(['train','validation'],loc='upper left')\n",
        "plt.show()"
      ],
      "metadata": {
        "colab": {
          "base_uri": "https://localhost:8080/",
          "height": 279
        },
        "id": "FyC5qg4NI9N3",
        "outputId": "c71b35a2-77f5-4abf-a998-42f5811b08b6"
      },
      "execution_count": null,
      "outputs": [
        {
          "output_type": "display_data",
          "data": {
            "text/plain": [
              "<Figure size 432x288 with 1 Axes>"
            ],
            "image/png": "[encoded data removed]"
          },
          "metadata": {
            "needs_background": "light"
          }
        }
      ]
    },
    {
      "cell_type": "code",
      "source": [
        "img = load_img(\"/content/drive/MyDrive/image/test/No_mask/15.jpg\", target_size=(150,150))\n",
        "plt.xticks([])\n",
        "plt.yticks([])\n",
        "plt.imshow(img)\n",
        "plt.show()\n",
        "x= img_to_array(img)\n",
        "x=np.expand_dims(x,axis=0)\n",
        "images = np.vstack([x])\n",
        "val=np.argmax(model.predict(images))\n",
        "if val == 0:\n",
        "    print(\"CoKhauTrang\")\n",
        "if val == 1:\n",
        "    print(\"KhongKhauTrang\")"
      ],
      "metadata": {
        "colab": {
          "base_uri": "https://localhost:8080/",
          "height": 270
        },
        "id": "0NLpTEXlJEum",
        "outputId": "479ec0f4-54a5-478c-e8ad-0e7adf64ba7c"
      },
      "execution_count": null,
      "outputs": [
        {
          "output_type": "display_data",
          "data": {
            "text/plain": [
              "<Figure size 432x288 with 1 Axes>"
            ],
            "image/png": "[encoded data removed]"
          },
          "metadata": {}
        },
        {
          "output_type": "stream",
          "name": "stdout",
          "text": [
            "CoKhauTrang\n"
          ]
        }
      ]
    },
    {
      "cell_type": "code",
      "source": [
        "from google.colab import drive\n",
        "drive.mount('/content/drive')\n",
        "!wget -nc https://raw.githubusercontent.com/brpy/colab-pdf/master/colab_pdf.py\n",
        "from colab_pdf import colab_pdf\n",
        "colab_pdf('fade_khuon_mat_CNN.ipynb')"
      ],
      "metadata": {
        "colab": {
          "base_uri": "https://localhost:8080/",
          "height": 400
        },
        "id": "GodHqEhiJ_AG",
        "outputId": "89a875e3-9e54-4583-d005-8a3df58a9dcb"
      },
      "execution_count": null,
      "outputs": [
        {
          "output_type": "stream",
          "name": "stdout",
          "text": [
            "Drive already mounted at /content/drive; to attempt to forcibly remount, call drive.mount(\"/content/drive\", force_remount=True).\n",
            "File ‘colab_pdf.py’ already there; not retrieving.\n",
            "\n",
            "\n",
            "WARNING: apt does not have a stable CLI interface. Use with caution in scripts.\n",
            "\n",
            "\n",
            "WARNING: apt does not have a stable CLI interface. Use with caution in scripts.\n",
            "\n",
            "Extracting templates from packages: 100%\n",
            "[NbConvertApp] Converting notebook /content/drive/MyDrive/Colab Notebooks/fade_khuon_mat_CNN.ipynb to pdf\n",
            "[NbConvertApp] Support files will be in fade_khuon_mat_CNN_files/\n",
            "[NbConvertApp] Making directory ./fade_khuon_mat_CNN_files\n",
            "[NbConvertApp] Making directory ./fade_khuon_mat_CNN_files\n",
            "[NbConvertApp] Writing 54100 bytes to ./notebook.tex\n",
            "[NbConvertApp] Building PDF\n",
            "[NbConvertApp] Running xelatex 3 times: ['xelatex', './notebook.tex', '-quiet']\n",
            "[NbConvertApp] Running bibtex 1 time: ['bibtex', './notebook']\n",
            "[NbConvertApp] WARNING | bibtex had problems, most likely because there were no citations\n",
            "[NbConvertApp] PDF successfully created\n",
            "[NbConvertApp] Writing 99093 bytes to /content/drive/My Drive/fade_khuon_mat_CNN.pdf\n"
          ]
        },
        {
          "output_type": "display_data",
          "data": {
            "text/plain": [
              "<IPython.core.display.Javascript object>"
            ],
            "application/javascript": [
              "\n",
              "    async function download(id, filename, size) {\n",
              "      if (!google.colab.kernel.accessAllowed) {\n",
              "        return;\n",
              "      }\n",
              "      const div = document.createElement('div');\n",
              "      const label = document.createElement('label');\n",
              "      label.textContent = `Downloading \"${filename}\": `;\n",
              "      div.appendChild(label);\n",
              "      const progress = document.createElement('progress');\n",
              "      progress.max = size;\n",
              "      div.appendChild(progress);\n",
              "      document.body.appendChild(div);\n",
              "\n",
              "      const buffers = [];\n",
              "      let downloaded = 0;\n",
              "\n",
              "      const channel = await google.colab.kernel.comms.open(id);\n",
              "      // Send a message to notify the kernel that we're ready.\n",
              "      channel.send({})\n",
              "\n",
              "      for await (const message of channel.messages) {\n",
              "        // Send a message to notify the kernel that we're ready.\n",
              "        channel.send({})\n",
              "        if (message.buffers) {\n",
              "          for (const buffer of message.buffers) {\n",
              "            buffers.push(buffer);\n",
              "            downloaded += buffer.byteLength;\n",
              "            progress.value = downloaded;\n",
              "          }\n",
              "        }\n",
              "      }\n",
              "      const blob = new Blob(buffers, {type: 'application/binary'});\n",
              "      const a = document.createElement('a');\n",
              "      a.href = window.URL.createObjectURL(blob);\n",
              "      a.download = filename;\n",
              "      div.appendChild(a);\n",
              "      a.click();\n",
              "      div.remove();\n",
              "    }\n",
              "  "
            ]
          },
          "metadata": {}
        },
        {
          "output_type": "display_data",
          "data": {
            "text/plain": [
              "<IPython.core.display.Javascript object>"
            ],
            "application/javascript": [
              "download(\"download_fec7bb3c-93e5-4e3b-88d1-076f3303b558\", \"fade_khuon_mat_CNN.pdf\", 99093)"
            ]
          },
          "metadata": {}
        },
        {
          "output_type": "execute_result",
          "data": {
            "text/plain": [
              "'File ready to be Downloaded and Saved to Drive'"
            ],
            "application/vnd.google.colaboratory.intrinsic+json": {
              "type": "string"
            }
          },
          "metadata": {},
          "execution_count": 35
        }
      ]
    },
    {
      "cell_type": "code",
      "source": [
        ""
      ],
      "metadata": {
        "id": "KSdkocLsOxvE"
      },
      "execution_count": null,
      "outputs": []
    }
  ]
}